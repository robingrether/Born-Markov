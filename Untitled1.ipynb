{
 "cells": [
  {
   "cell_type": "code",
   "execution_count": 79,
   "id": "elect-swift",
   "metadata": {},
   "outputs": [],
   "source": [
    "import numpy\n",
    "from scipy import linalg\n",
    "from matplotlib import pyplot"
   ]
  },
  {
   "cell_type": "code",
   "execution_count": 80,
   "id": "eleven-pizza",
   "metadata": {},
   "outputs": [],
   "source": [
    "class MESolver:\n",
    "    \n",
    "    def __init__(self):\n",
    "        pass # initialize any variables\n",
    "    \n",
    "    def get_ddt_rho(self, rho):\n",
    "        return 0 # put the actual differential form here\n",
    "    \n",
    "    def propagate(self, rho_0, t, dt=1e-3):\n",
    "        rho = rho_0\n",
    "        for i in range(int(t/dt)):\n",
    "            rho += get_ddt_rho(rho) * dt\n",
    "        \n",
    "        return rho"
   ]
  },
  {
   "cell_type": "code",
   "execution_count": 81,
   "id": "rocky-margin",
   "metadata": {},
   "outputs": [],
   "source": [
    "class SingleLevelSolver:\n",
    "    \n",
    "    # time in fs\n",
    "    # energies in eV\n",
    "    # temperature in K\n",
    "    \n",
    "    def __init__(self, e_0, V, D, mu_L, mu_R, T_L, T_R):\n",
    "        self.e_0 = e_0\n",
    "        self.V = V\n",
    "        self.D = D\n",
    "        self.mu_L = mu_L\n",
    "        self.mu_R = mu_R\n",
    "        self.T_L = T_L * 8.617e-5\n",
    "        self.T_R = T_R * 8.617e-5\n",
    "        self.f_L = 1 / (numpy.exp((self.e_0 - self.mu_L)/self.T_L) + 1)\n",
    "        self.f_R = 1 / (numpy.exp((self.e_0 - self.mu_R)/self.T_R) + 1)\n",
    "        self.Gamma_1 = 2 * numpy.pi * numpy.abs(V)**2 * D * (self.f_L + self.f_R)\n",
    "        self.Gamma_2 = 2 * numpy.pi * numpy.abs(V)**2 * D * (2 - self.f_L - self.f_R)\n",
    "        self.Gamma_13 = 2 * numpy.pi * numpy.abs(V)**2\n",
    "        self.Gamma_13ast = numpy.conjugate(self.Gamma_13)\n",
    "    \n",
    "    def get_ddt_rho(self, rho):\n",
    "        return 1.519 * numpy.array([[-self.Gamma_1 * rho[0,0] + self.Gamma_2 * rho[1,1], (1j * self.e_0 - self.Gamma_13) * rho[0,1]],\n",
    "                            [(-1j * self.e_0 - self.Gamma_13ast) * rho[1,0], -self.Gamma_2 * rho[1,1] + self.Gamma_1 * rho[0,0]]])\n",
    "    \n",
    "    def propagate(self, rho_0, t, consumer=None, dt=1e-3):\n",
    "        rho = numpy.array(rho_0, dtype=numpy.complex128)\n",
    "        if consumer:\n",
    "            for i in range(int(t/dt)):\n",
    "                ddt_rho = self.get_ddt_rho(rho)\n",
    "                consumer(i, rho, ddt_rho)\n",
    "                rho += ddt_rho * dt\n",
    "            consumer(int(t/dt), rho, self.get_ddt_rho(rho))\n",
    "        else:\n",
    "            for i in range(int(t/dt)):\n",
    "                rho += self.get_ddt_rho(rho) * dt\n",
    "        \n",
    "        return rho\n",
    "    \n",
    "    def calc_current(self, rho_0, t, dt=1e-3):\n",
    "        N = int(t/dt)\n",
    "        current_L = numpy.zeros(N+1)\n",
    "        current_R = numpy.zeros(N+1)\n",
    "        \n",
    "        def consume(i, rho, ddt_rho):\n",
    "            current_L[i] = -2 * numpy.pi * 0.2434 * numpy.abs(self.V)**2 * self.D * (self.f_L + rho[0,0] - 1)\n",
    "            current_R[i] = -2 * numpy.pi * 0.2434 * numpy.abs(self.V)**2 * self.D * (self.f_R + rho[0,0] - 1)\n",
    "        \n",
    "        self.propagate(rho_0, t, consumer=consume, dt=dt)\n",
    "        \n",
    "        return current_L, current_R"
   ]
  },
  {
   "cell_type": "code",
   "execution_count": 89,
   "id": "buried-magic",
   "metadata": {},
   "outputs": [
    {
     "name": "stderr",
     "output_type": "stream",
     "text": [
      "<ipython-input-81-c79d1550c79c>:46: ComplexWarning: Casting complex values to real discards the imaginary part\n",
      "  current_L[i] = -2 * numpy.pi * 0.2434 * numpy.abs(self.V)**2 * self.D * (self.f_L + rho[0,0] - 1)\n",
      "<ipython-input-81-c79d1550c79c>:47: ComplexWarning: Casting complex values to real discards the imaginary part\n",
      "  current_R[i] = -2 * numpy.pi * 0.2434 * numpy.abs(self.V)**2 * self.D * (self.f_R + rho[0,0] - 1)\n"
     ]
    },
    {
     "data": {
      "image/png": "[encoded data removed]",
      "text/plain": [
       "<Figure size 432x288 with 1 Axes>"
      ]
     },
     "metadata": {
      "needs_background": "light"
     },
     "output_type": "display_data"
    }
   ],
   "source": [
    "t_max = .2\n",
    "dt = 1e-5\n",
    "\n",
    "solver = SingleLevelSolver(1, 1, 10, 1, -.1, 300, 300)\n",
    "current_L, current_R = solver.calc_current(numpy.diag([0.5, 0.5]), t_max, dt=dt)\n",
    "\n",
    "pyplot.plot(numpy.linspace(0, t_max, len(current_L)), current_L, label=\"$J_L$\")\n",
    "pyplot.plot(numpy.linspace(0, t_max, len(current_R)), current_R, label=\"$J_R$\")\n",
    "pyplot.xlabel(\"$t$ [fs]\")\n",
    "pyplot.ylabel(\"$J$ [mA]\")\n",
    "pyplot.legend()\n",
    "pyplot.show()"
   ]
  },
  {
   "cell_type": "code",
   "execution_count": null,
   "id": "indie-graduate",
   "metadata": {},
   "outputs": [],
   "source": []
  },
  {
   "cell_type": "code",
   "execution_count": null,
   "id": "clear-tunnel",
   "metadata": {},
   "outputs": [],
   "source": []
  }
 ],
 "metadata": {
  "kernelspec": {
   "display_name": "Python 3",
   "language": "python",
   "name": "python3"
  },
  "language_info": {
   "codemirror_mode": {
    "name": "ipython",
    "version": 3
   },
   "file_extension": ".py",
   "mimetype": "text/x-python",
   "name": "python",
   "nbconvert_exporter": "python",
   "pygments_lexer": "ipython3",
   "version": "3.9.2"
  }
 },
 "nbformat": 4,
 "nbformat_minor": 5
}
