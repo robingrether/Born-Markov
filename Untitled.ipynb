{
 "cells": [
  {
   "cell_type": "code",
   "execution_count": 1,
   "id": "endangered-trustee",
   "metadata": {},
   "outputs": [],
   "source": [
    "import numpy\n",
    "\n",
    "from sympy import *\n",
    "init_printing(use_unicode=True)"
   ]
  },
  {
   "cell_type": "code",
   "execution_count": 2,
   "id": "enabling-broadcast",
   "metadata": {},
   "outputs": [],
   "source": [
    "A, B, C, D, E, F, G, H, I, J, K, L, M, N, O, P, Q, R, S, T, U, V, W, X, Y, Z, a, b, c, d, e, f, g, h, i, j = symbols('A B C D E F G H I J K L M N O P Q R S T U V W X Y Z a b c d e f g h i j')"
   ]
  },
  {
   "cell_type": "code",
   "execution_count": 3,
   "id": "compliant-blade",
   "metadata": {},
   "outputs": [],
   "source": [
    "rho = Matrix([[A, B, C, D], [E, F, G, H], [I, J, K, L], [M, N, O, P]])\n",
    "\n",
    "d_up = Matrix([[0,1,0,0],[0,0,0,0],[0,0,0,1],[0,0,0,0]])\n",
    "\n",
    "d_down = Matrix([[0,0,1,0], [0,0,0,1], [0,0,0,0], [0,0,0,0]])\n",
    "\n",
    "up_nul = Matrix([[0,0,0,0],[1,0,0,0],[0,0,0,0],[0,0,0,0]])\n",
    "\n",
    "updown_down = Matrix([[0,0,0,0],[0,0,0,0],[0,0,0,0],[0,0,1,0]])\n",
    "\n",
    "down_nul = Matrix([[0,0,0,0],[0,0,0,0],[1,0,0,0],[0,0,0,0]])\n",
    "\n",
    "updown_up = Matrix([[0,0,0,0],[0,0,0,0],[0,0,0,0],[0,1,0,0]])"
   ]
  },
  {
   "cell_type": "code",
   "execution_count": 28,
   "id": "copyrighted-strain",
   "metadata": {},
   "outputs": [
    {
     "data": {
      "image/png": "[encoded data removed]",
      "text/latex": [
       "$\\displaystyle \\left[\\begin{matrix}0 & L & 0 & 0\\\\0 & P & 0 & 0\\\\0 & 0 & 0 & 0\\\\0 & 0 & 0 & 0\\end{matrix}\\right]$"
      ],
      "text/plain": [
       "⎡0  L  0  0⎤\n",
       "⎢          ⎥\n",
       "⎢0  P  0  0⎥\n",
       "⎢          ⎥\n",
       "⎢0  0  0  0⎥\n",
       "⎢          ⎥\n",
       "⎣0  0  0  0⎦"
      ]
     },
     "execution_count": 28,
     "metadata": {},
     "output_type": "execute_result"
    }
   ],
   "source": [
    "d_down * rho * updown_up"
   ]
  },
  {
   "cell_type": "code",
   "execution_count": null,
   "id": "affected-stake",
   "metadata": {},
   "outputs": [],
   "source": []
  },
  {
   "cell_type": "code",
   "execution_count": null,
   "id": "electric-injury",
   "metadata": {},
   "outputs": [],
   "source": []
  },
  {
   "cell_type": "code",
   "execution_count": null,
   "id": "offshore-chassis",
   "metadata": {},
   "outputs": [],
   "source": []
  }
 ],
 "metadata": {
  "kernelspec": {
   "display_name": "Python 3",
   "language": "python",
   "name": "python3"
  },
  "language_info": {
   "codemirror_mode": {
    "name": "ipython",
    "version": 3
   },
   "file_extension": ".py",
   "mimetype": "text/x-python",
   "name": "python",
   "nbconvert_exporter": "python",
   "pygments_lexer": "ipython3",
   "version": "3.9.2"
  }
 },
 "nbformat": 4,
 "nbformat_minor": 5
}
