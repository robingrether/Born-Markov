{
 "cells": [
  {
   "cell_type": "code",
   "execution_count": 2,
   "metadata": {},
   "outputs": [],
   "source": [
    "import numpy\n",
    "\n",
    "from sympy import *\n",
    "init_printing(use_unicode=True)"
   ]
  },
  {
   "cell_type": "code",
   "execution_count": 3,
   "metadata": {},
   "outputs": [],
   "source": [
    "A, B, C, D, E, F, G, H, I, J, K, L, M, N, O, P, Q, R, S, T, U, V, W, X, Y, Z, a, b, c, d, e, f, g, h, i, j = symbols('A B C D E F G H I J K L M N O P Q R S T U V W X Y Z a b c d e f g h i j')"
   ]
  },
  {
   "cell_type": "code",
   "execution_count": 6,
   "metadata": {},
   "outputs": [],
   "source": [
    "rho = Matrix([[A, B, C, D], [E, F, G, H], [I, J, K, L], [M, N, O, P]])\n",
    "\n",
    "d_up = Matrix([[0,1,0,0],[0,0,0,0],[0,0,0,-1],[0,0,0,0]])\n",
    "\n",
    "d_down = Matrix([[0,0,1,0], [0,0,0,1], [0,0,0,0], [0,0,0,0]])\n",
    "\n",
    "up_nul = Matrix([[0,0,0,0],[1,0,0,0],[0,0,0,0],[0,0,0,0]])\n",
    "\n",
    "updown_down = Matrix([[0,0,0,0],[0,0,0,0],[0,0,0,0],[0,0,1,0]])\n",
    "\n",
    "down_nul = Matrix([[0,0,0,0],[0,0,0,0],[1,0,0,0],[0,0,0,0]])\n",
    "\n",
    "updown_up = Matrix([[0,0,0,0],[0,0,0,0],[0,0,0,0],[0,1,0,0]])"
   ]
  },
  {
   "cell_type": "code",
   "execution_count": 23,
   "metadata": {},
   "outputs": [
    {
     "name": "stdout",
     "output_type": "stream",
     "text": [
      "Matrix([[0, 0, 0, D], [0, 0, 0, H], [0, 0, 0, L], [0, 0, 0, P]])\n"
     ]
    }
   ],
   "source": [
    "print(rho @ updown_up @ d_down)"
   ]
  },
  {
   "cell_type": "code",
   "execution_count": null,
   "metadata": {},
   "outputs": [],
   "source": []
  },
  {
   "cell_type": "code",
   "execution_count": null,
   "metadata": {},
   "outputs": [],
   "source": []
  },
  {
   "cell_type": "code",
   "execution_count": null,
   "metadata": {},
   "outputs": [],
   "source": []
  }
 ],
 "metadata": {
  "kernelspec": {
   "display_name": "Python 3",
   "language": "python",
   "name": "python3"
  },
  "language_info": {
   "codemirror_mode": {
    "name": "ipython",
    "version": 3
   },
   "file_extension": ".py",
   "mimetype": "text/x-python",
   "name": "python",
   "nbconvert_exporter": "python",
   "pygments_lexer": "ipython3",
   "version": "3.7.5"
  }
 },
 "nbformat": 4,
 "nbformat_minor": 5
}
