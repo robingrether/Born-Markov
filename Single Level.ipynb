{
 "cells": [
  {
   "cell_type": "code",
   "execution_count": 1,
   "metadata": {},
   "outputs": [],
   "source": [
    "import numpy\n",
    "from scipy import linalg, special\n",
    "from scipy.integrate import solve_ivp\n",
    "from matplotlib import pyplot\n",
    "import matplotlib\n",
    "\n",
    "#matplotlib.rc(\"font\", **{\"family\":  \"serif\", \"weight\": \"normal\", \"size\": 20})\n",
    "\n",
    "pyplot.rcParams.update({\n",
    "    \"text.usetex\": True,\n",
    "    \"font.family\": \"serif\",\n",
    "    \"font.serif\": [\"Computer Modern Roman\"],\n",
    "    \"font.size\": \"28\",\n",
    "    \"text.latex.preamble\": \"\\\\usepackage[utf8]{inputenc}\\\\usepackage[T1]{fontenc}\\\\usepackage{lmodern}\"\n",
    "})\n",
    "\n",
    "from tqdm.notebook import tqdm\n",
    "\n",
    "import joblib\n",
    "\n",
    "from born_markov import *"
   ]
  },
  {
   "cell_type": "code",
   "execution_count": null,
   "metadata": {},
   "outputs": [],
   "source": [
    "e_0 = 0.1 # eV\n",
    "Gamma = 0.01 # eV\n",
    "T = 100 # K\n",
    "voltages = numpy.linspace(-.5, .5, 501)\n",
    "\n",
    "currents = numpy.zeros((len(voltages), 2))\n",
    "\n",
    "for i, voltage in enumerate(tqdm(voltages)):\n",
    "    solver = create_single_level_solver(e_0, Gamma, -0.5*voltage, 0.5*voltage, T, T)\n",
    "    rho_ss, L = solver.find_steady_state()\n",
    "    currents[i] = solver.get_current(rho_ss)\n",
    "    \n",
    "pyplot.figure(figsize=(15,10))\n",
    "pyplot.plot(voltages, currents[:,0], label=\"$J_L$\")\n",
    "pyplot.plot(voltages, currents[:,1], label=\"$J_R$\")\n",
    "pyplot.grid()\n",
    "pyplot.legend(loc=1)\n",
    "pyplot.xlabel(\"$\\\\Delta\\\\phi$ [V]\")\n",
    "pyplot.ylabel(\"$J_K$ [mA]\")\n",
    "#pyplot.savefig(\"single_level_currents.pdf\")\n",
    "pyplot.show()\n",
    "\n",
    "numpy.save(\"SL_100K\", currents)"
   ]
  },
  {
   "cell_type": "code",
   "execution_count": null,
   "metadata": {},
   "outputs": [],
   "source": [
    "pyplot.figure(figsize=(15,10))\n",
    "pyplot.plot(voltages, 1e3*numpy.load(\"SL_100K.npy\")[:,0], label=\"$T$=100K\", c=\"tab:blue\")\n",
    "pyplot.plot(voltages, 1e3*numpy.load(\"SL_100K.npy\")[:,1], c=\"tab:blue\", ls=\"--\")\n",
    "pyplot.plot(voltages, 1e3*numpy.load(\"SL_200K.npy\")[:,0], label=\"$T$=200K\", c=\"tab:orange\")\n",
    "pyplot.plot(voltages, 1e3*numpy.load(\"SL_200K.npy\")[:,1], c=\"tab:orange\", ls=\"--\")\n",
    "pyplot.plot(voltages, 1e3*numpy.load(\"SL_300K.npy\")[:,0], label=\"$T$=300K\", c=\"tab:green\")\n",
    "pyplot.plot(voltages, 1e3*numpy.load(\"SL_300K.npy\")[:,1], c=\"tab:green\", ls=\"--\")\n",
    "pyplot.grid()\n",
    "pyplot.legend(loc=5, framealpha=1.)\n",
    "pyplot.xlabel(\"$\\\\Delta\\\\phi$ [V]\")\n",
    "pyplot.ylabel(\"$J_K$ [µA]\")\n",
    "pyplot.savefig(\"SL_currents.pdf\")\n",
    "pyplot.show()"
   ]
  },
  {
   "cell_type": "code",
   "execution_count": null,
   "metadata": {},
   "outputs": [],
   "source": []
  },
  {
   "cell_type": "code",
   "execution_count": null,
   "metadata": {},
   "outputs": [],
   "source": []
  },
  {
   "cell_type": "code",
   "execution_count": null,
   "metadata": {},
   "outputs": [],
   "source": []
  },
  {
   "cell_type": "code",
   "execution_count": null,
   "metadata": {},
   "outputs": [],
   "source": []
  },
  {
   "cell_type": "code",
   "execution_count": null,
   "metadata": {},
   "outputs": [],
   "source": []
  },
  {
   "cell_type": "code",
   "execution_count": null,
   "metadata": {},
   "outputs": [],
   "source": []
  },
  {
   "cell_type": "code",
   "execution_count": null,
   "metadata": {},
   "outputs": [],
   "source": []
  },
  {
   "cell_type": "code",
   "execution_count": null,
   "metadata": {},
   "outputs": [],
   "source": []
  },
  {
   "cell_type": "code",
   "execution_count": null,
   "metadata": {},
   "outputs": [],
   "source": []
  },
  {
   "cell_type": "code",
   "execution_count": null,
   "metadata": {},
   "outputs": [],
   "source": []
  }
 ],
 "metadata": {
  "kernelspec": {
   "display_name": "Python 3",
   "language": "python",
   "name": "python3"
  },
  "language_info": {
   "codemirror_mode": {
    "name": "ipython",
    "version": 3
   },
   "file_extension": ".py",
   "mimetype": "text/x-python",
   "name": "python",
   "nbconvert_exporter": "python",
   "pygments_lexer": "ipython3",
   "version": "3.7.5"
  }
 },
 "nbformat": 4,
 "nbformat_minor": 2
}
