{
 "cells": [
  {
   "cell_type": "code",
   "execution_count": 1,
   "id": "c5cc564c",
   "metadata": {},
   "outputs": [],
   "source": [
    "import numpy\n",
    "from scipy import linalg, special, integrate, optimize\n",
    "from scipy.integrate import solve_ivp\n",
    "import matplotlib\n",
    "from matplotlib import pyplot\n",
    "import pandas\n",
    "import gc\n",
    "import os\n",
    "\n",
    "from tqdm.notebook import tqdm\n",
    "\n",
    "import joblib\n",
    "\n",
    "import bmme"
   ]
  },
  {
   "cell_type": "code",
   "execution_count": 8,
   "id": "39f6d25d",
   "metadata": {},
   "outputs": [],
   "source": [
    "omega = .3\n",
    "lamda = .03                            # .03, .15, .3, .6 eV\n",
    "epsilon = .15  \n",
    "Gamma = .01                            # .01, .026, .05 eV\n",
    "T = .026\n",
    "\n",
    "fix_epsilon = True\n",
    "if fix_epsilon:\n",
    "    e1 = epsilon\n",
    "    epsilon += lamda**2 / omega\n",
    "    \n",
    "def file_apx():\n",
    "    return f\"{'ef' if fix_epsilon else 'e'}{(e1 if fix_epsilon else epsilon):.3f}_omega{omega:.3f}_lamda{lamda:.3f}_Gamma{Gamma:.3f}\""
   ]
  },
  {
   "cell_type": "markdown",
   "id": "4e3608aa",
   "metadata": {},
   "source": [
    "## Migrate old Langevin data"
   ]
  },
  {
   "cell_type": "code",
   "execution_count": 3,
   "id": "098da7a3",
   "metadata": {},
   "outputs": [
    {
     "name": "stdout",
     "output_type": "stream",
     "text": [
      "voltage         int32\n",
      "X             float64\n",
      "current_L     float64\n",
      "current_R     float64\n",
      "mean_force    float64\n",
      "friction      float64\n",
      "diffusion     float64\n",
      "dtype: object\n"
     ]
    }
   ],
   "source": [
    "voltages = numpy.arange(0, 1001, 10)\n",
    "x1 = numpy.linspace(-100, 100, 2001)\n",
    "\n",
    "mean_force = numpy.load(f\"data/holstein_semicl/mean_force_omega{omega:.3f}_lamda{lamda:.3f}_Gamma{Gamma:.3f}.npy\")\n",
    "friction = numpy.load(f\"data/holstein_semicl/friction_omega{omega:.3f}_lamda{lamda:.3f}_Gamma{Gamma:.3f}.npy\")\n",
    "correlation = numpy.load(f\"data/holstein_semicl/correlation_omega{omega:.3f}_lamda{lamda:.3f}_Gamma{Gamma:.3f}.npy\")\n",
    "currents = numpy.load(f\"data/holstein_semicl/currents_omega{omega:.3f}_lamda{lamda:.3f}_Gamma{Gamma:.3f}.npy\")\n",
    "\n",
    "mean_force = mean_force.flatten()\n",
    "friction = friction.flatten()\n",
    "correlation = correlation.flatten()\n",
    "current_L = currents[:,:,0].flatten()\n",
    "current_R = currents[:,:,1].flatten()\n",
    "\n",
    "voltages_new = numpy.array(numpy.repeat(voltages, len(x1)), dtype=numpy.int32)\n",
    "x1_new = numpy.tile(x1, len(voltages))\n",
    "\n",
    "panda = pandas.DataFrame(data={\"voltage\": voltages_new,\n",
    "                               \"X\": x1_new,\n",
    "                               \"current_L\": current_L,\n",
    "                               \"current_R\": current_R,\n",
    "                               \"mean_force\": mean_force,\n",
    "                               \"friction\": friction,\n",
    "                               \"diffusion\": correlation})\n",
    "\n",
    "print(panda.dtypes)\n",
    "\n",
    "panda.to_csv(f\"data/holstein_semicl/langevin_bmme_{file_apx()}.csv\")\n",
    "\n",
    "os.rename(f\"data/holstein_semicl/mean_force_omega{omega:.3f}_lamda{lamda:.3f}_Gamma{Gamma:.3f}.npy\", f\"data/holstein_semicl/mean_force_omega{omega:.3f}_lamda{lamda:.3f}_Gamma{Gamma:.3f}.npy.migrated\")\n",
    "os.rename(f\"data/holstein_semicl/friction_omega{omega:.3f}_lamda{lamda:.3f}_Gamma{Gamma:.3f}.npy\", f\"data/holstein_semicl/friction_omega{omega:.3f}_lamda{lamda:.3f}_Gamma{Gamma:.3f}.npy.migrated\")\n",
    "os.rename(f\"data/holstein_semicl/correlation_omega{omega:.3f}_lamda{lamda:.3f}_Gamma{Gamma:.3f}.npy\", f\"data/holstein_semicl/diffusion_omega{omega:.3f}_lamda{lamda:.3f}_Gamma{Gamma:.3f}.npy.migrated\")\n",
    "os.rename(f\"data/holstein_semicl/currents_omega{omega:.3f}_lamda{lamda:.3f}_Gamma{Gamma:.3f}.npy\", f\"data/holstein_semicl/currents_omega{omega:.3f}_lamda{lamda:.3f}_Gamma{Gamma:.3f}.npy.migrated\")"
   ]
  },
  {
   "cell_type": "markdown",
   "id": "d9ab5a61",
   "metadata": {},
   "source": [
    "## Migrate Sam's Langevin data"
   ]
  },
  {
   "cell_type": "code",
   "execution_count": 74,
   "id": "4da9ae5d",
   "metadata": {},
   "outputs": [
    {
     "name": "stdout",
     "output_type": "stream",
     "text": [
      "voltage         int32\n",
      "X             float64\n",
      "current_L     float64\n",
      "mean_force    float64\n",
      "friction      float64\n",
      "diffusion     float64\n",
      "dtype: object\n"
     ]
    }
   ],
   "source": [
    "voltages = numpy.arange(0, 1001, 100)\n",
    "\n",
    "voltages_new = []\n",
    "x1_new = []\n",
    "mean_force = []\n",
    "friction = []\n",
    "correlation = []\n",
    "current_L = []\n",
    "\n",
    "for voltage in voltages:\n",
    "    data0 = numpy.genfromtxt(f\"data/holstein_semicl/harmonic_omega_{omega:.3f}eV_lambda_{lamda:.2f}eV/gamma_{(1e3*Gamma):.0f}meV_temp_{T:.3f}eV/voltage_{voltage*1e-3:.1f}eV/tier_2/current_heom.txt\").T\n",
    "    grid = data0[0]\n",
    "    heom_current = data0[1]\n",
    "    heom_mean_force = numpy.genfromtxt(f\"data/holstein_semicl/harmonic_omega_{omega:.3f}eV_lambda_{lamda:.2f}eV/gamma_{(1e3*Gamma):.0f}meV_temp_{T:.3f}eV/voltage_{voltage*1e-3:.1f}eV/tier_2/average_electronic_force_heom.txt\").T[1]\n",
    "    heom_friction = numpy.genfromtxt(f\"data/holstein_semicl/harmonic_omega_{omega:.3f}eV_lambda_{lamda:.2f}eV/gamma_{(1e3*Gamma):.0f}meV_temp_{T:.3f}eV/voltage_{voltage*1e-3:.1f}eV/tier_2/friction_heom.txt\").T[1]\n",
    "    heom_diffusion = numpy.genfromtxt(f\"data/holstein_semicl/harmonic_omega_{omega:.3f}eV_lambda_{lamda:.2f}eV/gamma_{(1e3*Gamma):.0f}meV_temp_{T:.3f}eV/voltage_{voltage*1e-3:.1f}eV/tier_2/diffusion_heom.txt\").T[1]\n",
    "    grid_ext1 = numpy.arange(grid[0], -100, grid[0] - grid[1])[::-1][:-1]\n",
    "    grid_ext2 = numpy.arange(grid[-1], 100, grid[-1] - grid[-2])[1:]\n",
    "    \n",
    "    voltages_new.extend([voltage] * (len(grid_ext1) + len(grid) + len(grid_ext2)))\n",
    "    x1_new.extend(grid_ext1); x1_new.extend(grid); x1_new.extend(grid_ext2)\n",
    "    mean_force.extend(-omega * grid_ext1 - lamda * numpy.sqrt(2))\n",
    "    mean_force.extend(-omega * grid + heom_mean_force)\n",
    "    mean_force.extend(-omega * grid_ext2)\n",
    "    friction.extend(numpy.zeros(len(grid_ext1)))\n",
    "    friction.extend(heom_friction)\n",
    "    friction.extend(numpy.zeros(len(grid_ext2)))\n",
    "    correlation.extend(numpy.zeros(len(grid_ext1)))\n",
    "    correlation.extend(heom_diffusion)\n",
    "    correlation.extend(numpy.zeros(len(grid_ext2)))\n",
    "    current_L.extend(numpy.zeros(len(grid_ext1)))\n",
    "    current_L.extend(heom_current)\n",
    "    current_L.extend(numpy.zeros(len(grid_ext2)))\n",
    "    \n",
    "voltages_new = numpy.array(numpy.array(voltages_new).flatten(), dtype=numpy.int32)\n",
    "x1_new = numpy.array(x1_new).flatten()\n",
    "mean_force = numpy.array(mean_force).flatten()\n",
    "friction = numpy.array(friction).flatten()\n",
    "correlation = numpy.array(correlation).flatten()\n",
    "current_L = numpy.array(current_L).flatten()\n",
    "\n",
    "panda = pandas.DataFrame(data={\"voltage\": voltages_new,\n",
    "                               \"X\": x1_new,\n",
    "                               \"current_L\": current_L,\n",
    "                               \"mean_force\": mean_force,\n",
    "                               \"friction\": friction,\n",
    "                               \"diffusion\": correlation})\n",
    "\n",
    "print(panda.dtypes)\n",
    "\n",
    "panda.to_csv(f\"data/holstein_semicl/langevin_heom_{file_apx()}.csv\")"
   ]
  },
  {
   "cell_type": "markdown",
   "id": "2569bd1b",
   "metadata": {},
   "source": [
    "## Migrate old classical averages"
   ]
  },
  {
   "cell_type": "code",
   "execution_count": 23,
   "id": "906bfb00",
   "metadata": {},
   "outputs": [],
   "source": [
    "voltages = numpy.arange(0, 1001, 10)\n",
    "\n",
    "avgs = numpy.load(f\"data/holstein_semicl/classical_avgs_omega{omega:.3f}_lamda{lamda:.3f}_Gamma{Gamma:.3f}.npy\")\n",
    "\n",
    "panda = pandas.DataFrame(data={\"voltage\": voltages,\n",
    "                               \"current_L\": avgs[:,0,0]*1e3,\n",
    "                               \"u_current_L\": avgs[:,1,0]*1e3,\n",
    "                               \"current_R\": avgs[:,0,1]*1e3,\n",
    "                               \"u_current_R\": avgs[:,1,1]*1e3,\n",
    "                               \"X\": avgs[:,0,2],\n",
    "                               \"u_X\": avgs[:,1,2],\n",
    "                               \"X^2\": avgs[:,0,3],\n",
    "                               \"u_X^2\": avgs[:,1,3],\n",
    "                               \"P\": avgs[:,0,4],\n",
    "                               \"u_P\": avgs[:,1,4],\n",
    "                               \"P^2\": avgs[:,0,5],\n",
    "                               \"u_P^2\": avgs[:,1,5]})\n",
    "\n",
    "panda.to_csv(f\"data/holstein_semicl/classical_bmme_{file_apx()}.csv\")\n",
    "\n",
    "os.rename(f\"data/holstein_semicl/classical_avgs_omega{omega:.3f}_lamda{lamda:.3f}_Gamma{Gamma:.3f}.npy\", f\"data/holstein_semicl/classical_avgs_omega{omega:.3f}_lamda{lamda:.3f}_Gamma{Gamma:.3f}.npy.migrated\")"
   ]
  },
  {
   "cell_type": "markdown",
   "id": "b53f2753",
   "metadata": {},
   "source": [
    "## Migrate old quantum averages"
   ]
  },
  {
   "cell_type": "code",
   "execution_count": 9,
   "id": "02a71057",
   "metadata": {},
   "outputs": [],
   "source": [
    "voltages = numpy.arange(0, 1001, 10)\n",
    "\n",
    "N = 150\n",
    "N_diag = 250\n",
    "\n",
    "#rhos = numpy.load(f\"data/holstein_semicl/quantum_ss_omega{omega:.3f}_lamda{lamda:.3f}_Gamma{Gamma:.3f}_N{N}~{N_diag}.npy\")\n",
    "other_data = numpy.load(f\"data/holstein_semicl/quantum_avgs_omega{omega:.3f}_lamda{lamda:.3f}_Gamma{Gamma:.3f}_N{N}~{N_diag}.npy\")\n",
    "\n",
    "#rpanda = pandas.DataFrame({\"voltage\": voltages, \"rho_ss\": rhos})\n",
    "apanda = pandas.DataFrame({\"voltage\": voltages,\n",
    "                           \"current_L\": other_data[:,0]*1e3,\n",
    "                           \"current_R\": other_data[:,1]*1e3,\n",
    "                           \"X\": other_data[:,2],\n",
    "                           \"X^2\": other_data[:,3],\n",
    "                           \"P\": other_data[:,4],\n",
    "                           \"P^2\": other_data[:,5],\n",
    "                           \"occupation\": other_data[:,6],\n",
    "                           \"excitation\": other_data[:,7]})\n",
    "\n",
    "#rpanda.to_csv(f\"data/holstein_semicl/rho_ss_bmme_omega{omega:.3f}_lamda{lamda:.3f}_Gamma{Gamma:.3f}_N{N}~{N_diag}.csv\")\n",
    "apanda.to_csv(f\"data/holstein_semicl/quantum_bmme_{file_apx()}_N{N}~{N_diag}.csv\")\n",
    "\n",
    "#os.rename(f\"data/holstein_semicl/quantum_ss_omega{omega:.3f}_lamda{lamda:.3f}_Gamma{Gamma:.3f}_N{N}~{N_diag}.npy\", f\"data/holstein_semicl/quantum_ss_omega{omega:.3f}_lamda{lamda:.3f}_Gamma{Gamma:.3f}_N{N}~{N_diag}.npy.migrated\")\n",
    "os.rename(f\"data/holstein_semicl/quantum_avgs_omega{omega:.3f}_lamda{lamda:.3f}_Gamma{Gamma:.3f}_N{N}~{N_diag}.npy\", f\"data/holstein_semicl/quantum_avgs_omega{omega:.3f}_lamda{lamda:.3f}_Gamma{Gamma:.3f}_N{N}~{N_diag}.npy.migrated\")"
   ]
  },
  {
   "cell_type": "code",
   "execution_count": null,
   "id": "233fab84",
   "metadata": {},
   "outputs": [],
   "source": []
  }
 ],
 "metadata": {
  "kernelspec": {
   "display_name": "Python 3 (ipykernel)",
   "language": "python",
   "name": "python3"
  },
  "language_info": {
   "codemirror_mode": {
    "name": "ipython",
    "version": 3
   },
   "file_extension": ".py",
   "mimetype": "text/x-python",
   "name": "python",
   "nbconvert_exporter": "python",
   "pygments_lexer": "ipython3",
   "version": "3.11.0"
  }
 },
 "nbformat": 4,
 "nbformat_minor": 5
}
